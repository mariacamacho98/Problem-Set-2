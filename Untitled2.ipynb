{
  "nbformat": 4,
  "nbformat_minor": 0,
  "metadata": {
    "colab": {
      "provenance": []
    },
    "kernelspec": {
      "name": "python3",
      "display_name": "Python 3"
    },
    "language_info": {
      "name": "python"
    }
  },
  "cells": [
    {
      "cell_type": "code",
      "execution_count": null,
      "metadata": {
        "id": "nkzktq7xt1re"
      },
      "outputs": [],
      "source": []
    },
    {
      "cell_type": "markdown",
      "source": [
        "1."
      ],
      "metadata": {
        "id": "XkocXLuMurAm"
      }
    },
    {
      "cell_type": "code",
      "source": [
        "a = 0\n",
        "def b():\n",
        " global a\n",
        " a = c(a)\n",
        "def c(a):\n",
        " return a + 2\n",
        "\n",
        "b()\n",
        "'''\n",
        "b(): This line calls the b function. As explained earlier, this function:\n",
        "    1. Calls c(a) with the current global value of a (which is 0).\n",
        "    2. Since c(0) returns 0 + 2 = 2, the global variable a is updated to 2.\n",
        "'''\n",
        "b()\n",
        "'''\n",
        "b(): This line calls the b function again. Following the same logic:\n",
        "    1. c(a) is called with the current value of a (now 2).\n",
        "    2. c(2) returns 2 + 2 = 4, and the global a is updated to 4\n",
        "'''\n",
        "b()\n",
        "'''\n",
        "b(): This line calls the b function one last time:\n",
        "    1. c(a) is called with the current value of a (now 4).\n",
        "    2. c(4) returns 4 + 2 = 6, and the global a is updated to 6.\n",
        "'''\n",
        "a\n",
        "'''\n",
        "a: Finally, this line simply prints the value of the global variable a, which is now 6 after the last function call.\n",
        "'''"
      ],
      "metadata": {
        "colab": {
          "base_uri": "https://localhost:8080/",
          "height": 36
        },
        "id": "fO_cHpPOus8B",
        "outputId": "3cf5a68d-6416-4951-f680-9c54f493d1c1"
      },
      "execution_count": 2,
      "outputs": [
        {
          "output_type": "execute_result",
          "data": {
            "text/plain": [
              "'\\na: Finally, this line simply prints the value of the global variable a, which is now 6 after the last function call.\\n'"
            ],
            "application/vnd.google.colaboratory.intrinsic+json": {
              "type": "string"
            }
          },
          "metadata": {},
          "execution_count": 2
        }
      ]
    },
    {
      "cell_type": "markdown",
      "source": [
        "2."
      ],
      "metadata": {
        "id": "gyC273fWv6QF"
      }
    },
    {
      "cell_type": "code",
      "source": [
        "def fileLength(filename):\n",
        "    try:\n",
        "        infile = open(filename)\n",
        "        content = infile.read()\n",
        "        infile.close()\n",
        "        return len(content)\n",
        "    except FileNotFoundError:\n",
        "        print(f\"File {filename} not found.\")\n",
        "\n",
        "from google.colab import files\n",
        "uploaded = files.upload()\n",
        "file_name = \"Filelength.txt\"\n",
        "with open(file_name, 'r') as file:\n",
        "    content = file.read()\n",
        "    print(content)\n",
        "\n",
        "# Test the modified function\n",
        "fileLength('Filelength.txt')\n",
        "fileLength('idterm.py')\n",
        "fileLength('Filelength.txt')"
      ],
      "metadata": {
        "colab": {
          "base_uri": "https://localhost:8080/",
          "height": 201
        },
        "id": "AE5OJtLFv7X8",
        "outputId": "47d09bdf-6fd9-4bb4-9b80-d8ad4d5ce634"
      },
      "execution_count": 31,
      "outputs": [
        {
          "output_type": "display_data",
          "data": {
            "text/plain": [
              "<IPython.core.display.HTML object>"
            ],
            "text/html": [
              "\n",
              "     <input type=\"file\" id=\"files-d6c8e73a-a4b1-452c-a7ff-c389316ac389\" name=\"files[]\" multiple disabled\n",
              "        style=\"border:none\" />\n",
              "     <output id=\"result-d6c8e73a-a4b1-452c-a7ff-c389316ac389\">\n",
              "      Upload widget is only available when the cell has been executed in the\n",
              "      current browser session. Please rerun this cell to enable.\n",
              "      </output>\n",
              "      <script>// Copyright 2017 Google LLC\n",
              "//\n",
              "// Licensed under the Apache License, Version 2.0 (the \"License\");\n",
              "// you may not use this file except in compliance with the License.\n",
              "// You may obtain a copy of the License at\n",
              "//\n",
              "//      http://www.apache.org/licenses/LICENSE-2.0\n",
              "//\n",
              "// Unless required by applicable law or agreed to in writing, software\n",
              "// distributed under the License is distributed on an \"AS IS\" BASIS,\n",
              "// WITHOUT WARRANTIES OR CONDITIONS OF ANY KIND, either express or implied.\n",
              "// See the License for the specific language governing permissions and\n",
              "// limitations under the License.\n",
              "\n",
              "/**\n",
              " * @fileoverview Helpers for google.colab Python module.\n",
              " */\n",
              "(function(scope) {\n",
              "function span(text, styleAttributes = {}) {\n",
              "  const element = document.createElement('span');\n",
              "  element.textContent = text;\n",
              "  for (const key of Object.keys(styleAttributes)) {\n",
              "    element.style[key] = styleAttributes[key];\n",
              "  }\n",
              "  return element;\n",
              "}\n",
              "\n",
              "// Max number of bytes which will be uploaded at a time.\n",
              "const MAX_PAYLOAD_SIZE = 100 * 1024;\n",
              "\n",
              "function _uploadFiles(inputId, outputId) {\n",
              "  const steps = uploadFilesStep(inputId, outputId);\n",
              "  const outputElement = document.getElementById(outputId);\n",
              "  // Cache steps on the outputElement to make it available for the next call\n",
              "  // to uploadFilesContinue from Python.\n",
              "  outputElement.steps = steps;\n",
              "\n",
              "  return _uploadFilesContinue(outputId);\n",
              "}\n",
              "\n",
              "// This is roughly an async generator (not supported in the browser yet),\n",
              "// where there are multiple asynchronous steps and the Python side is going\n",
              "// to poll for completion of each step.\n",
              "// This uses a Promise to block the python side on completion of each step,\n",
              "// then passes the result of the previous step as the input to the next step.\n",
              "function _uploadFilesContinue(outputId) {\n",
              "  const outputElement = document.getElementById(outputId);\n",
              "  const steps = outputElement.steps;\n",
              "\n",
              "  const next = steps.next(outputElement.lastPromiseValue);\n",
              "  return Promise.resolve(next.value.promise).then((value) => {\n",
              "    // Cache the last promise value to make it available to the next\n",
              "    // step of the generator.\n",
              "    outputElement.lastPromiseValue = value;\n",
              "    return next.value.response;\n",
              "  });\n",
              "}\n",
              "\n",
              "/**\n",
              " * Generator function which is called between each async step of the upload\n",
              " * process.\n",
              " * @param {string} inputId Element ID of the input file picker element.\n",
              " * @param {string} outputId Element ID of the output display.\n",
              " * @return {!Iterable<!Object>} Iterable of next steps.\n",
              " */\n",
              "function* uploadFilesStep(inputId, outputId) {\n",
              "  const inputElement = document.getElementById(inputId);\n",
              "  inputElement.disabled = false;\n",
              "\n",
              "  const outputElement = document.getElementById(outputId);\n",
              "  outputElement.innerHTML = '';\n",
              "\n",
              "  const pickedPromise = new Promise((resolve) => {\n",
              "    inputElement.addEventListener('change', (e) => {\n",
              "      resolve(e.target.files);\n",
              "    });\n",
              "  });\n",
              "\n",
              "  const cancel = document.createElement('button');\n",
              "  inputElement.parentElement.appendChild(cancel);\n",
              "  cancel.textContent = 'Cancel upload';\n",
              "  const cancelPromise = new Promise((resolve) => {\n",
              "    cancel.onclick = () => {\n",
              "      resolve(null);\n",
              "    };\n",
              "  });\n",
              "\n",
              "  // Wait for the user to pick the files.\n",
              "  const files = yield {\n",
              "    promise: Promise.race([pickedPromise, cancelPromise]),\n",
              "    response: {\n",
              "      action: 'starting',\n",
              "    }\n",
              "  };\n",
              "\n",
              "  cancel.remove();\n",
              "\n",
              "  // Disable the input element since further picks are not allowed.\n",
              "  inputElement.disabled = true;\n",
              "\n",
              "  if (!files) {\n",
              "    return {\n",
              "      response: {\n",
              "        action: 'complete',\n",
              "      }\n",
              "    };\n",
              "  }\n",
              "\n",
              "  for (const file of files) {\n",
              "    const li = document.createElement('li');\n",
              "    li.append(span(file.name, {fontWeight: 'bold'}));\n",
              "    li.append(span(\n",
              "        `(${file.type || 'n/a'}) - ${file.size} bytes, ` +\n",
              "        `last modified: ${\n",
              "            file.lastModifiedDate ? file.lastModifiedDate.toLocaleDateString() :\n",
              "                                    'n/a'} - `));\n",
              "    const percent = span('0% done');\n",
              "    li.appendChild(percent);\n",
              "\n",
              "    outputElement.appendChild(li);\n",
              "\n",
              "    const fileDataPromise = new Promise((resolve) => {\n",
              "      const reader = new FileReader();\n",
              "      reader.onload = (e) => {\n",
              "        resolve(e.target.result);\n",
              "      };\n",
              "      reader.readAsArrayBuffer(file);\n",
              "    });\n",
              "    // Wait for the data to be ready.\n",
              "    let fileData = yield {\n",
              "      promise: fileDataPromise,\n",
              "      response: {\n",
              "        action: 'continue',\n",
              "      }\n",
              "    };\n",
              "\n",
              "    // Use a chunked sending to avoid message size limits. See b/62115660.\n",
              "    let position = 0;\n",
              "    do {\n",
              "      const length = Math.min(fileData.byteLength - position, MAX_PAYLOAD_SIZE);\n",
              "      const chunk = new Uint8Array(fileData, position, length);\n",
              "      position += length;\n",
              "\n",
              "      const base64 = btoa(String.fromCharCode.apply(null, chunk));\n",
              "      yield {\n",
              "        response: {\n",
              "          action: 'append',\n",
              "          file: file.name,\n",
              "          data: base64,\n",
              "        },\n",
              "      };\n",
              "\n",
              "      let percentDone = fileData.byteLength === 0 ?\n",
              "          100 :\n",
              "          Math.round((position / fileData.byteLength) * 100);\n",
              "      percent.textContent = `${percentDone}% done`;\n",
              "\n",
              "    } while (position < fileData.byteLength);\n",
              "  }\n",
              "\n",
              "  // All done.\n",
              "  yield {\n",
              "    response: {\n",
              "      action: 'complete',\n",
              "    }\n",
              "  };\n",
              "}\n",
              "\n",
              "scope.google = scope.google || {};\n",
              "scope.google.colab = scope.google.colab || {};\n",
              "scope.google.colab._files = {\n",
              "  _uploadFiles,\n",
              "  _uploadFilesContinue,\n",
              "};\n",
              "})(self);\n",
              "</script> "
            ]
          },
          "metadata": {}
        },
        {
          "output_type": "stream",
          "name": "stdout",
          "text": [
            "Saving Filelength.txt to Filelength (4).txt\n",
            "def file_length(file_name):\n",
            "    file = open(file_name)\n",
            "    contents = file.read()\n",
            "    file.close()\n",
            "    print(len(contents))\n",
            "File idterm.py not found.\n"
          ]
        },
        {
          "output_type": "execute_result",
          "data": {
            "text/plain": [
              "123"
            ]
          },
          "metadata": {},
          "execution_count": 31
        }
      ]
    },
    {
      "cell_type": "markdown",
      "source": [
        "3."
      ],
      "metadata": {
        "id": "nZq5W_7pw5kT"
      }
    },
    {
      "cell_type": "code",
      "source": [
        "class Marsupial:\n",
        "    def __init__(self):\n",
        "        self.pouch = []\n",
        "\n",
        "    def put_in_pouch(self, item):\n",
        "        self.pouch.append(item)\n",
        "\n",
        "    def pouch_contents(self):\n",
        "        return self.pouch\n",
        "\n",
        "class Kangaroo(Marsupial):\n",
        "    def __init__(self, x, y):\n",
        "        super().__init__()\n",
        "        self.x = x\n",
        "        self.y = y\n",
        "\n",
        "    def jump(self, dx, dy):\n",
        "        self.x += dx\n",
        "        self.y += dy\n",
        "\n",
        "    def __str__(self):\n",
        "        return f\"I am a Kangaroo located at coordinates ({self.x},{self.y})\"\n",
        "\n",
        "# Test the classes\n",
        "k = Kangaroo(0, 0)\n",
        "print(k)\n",
        "\n",
        "k.put_in_pouch('doll')\n",
        "k.put_in_pouch('firetruck')\n",
        "k.put_in_pouch('kitten')\n",
        "print(k.pouch_contents())\n",
        "\n",
        "k.jump(1, 0)\n",
        "k.jump(1, 0)\n",
        "k.jump(1, 0)\n",
        "print(k)"
      ],
      "metadata": {
        "colab": {
          "base_uri": "https://localhost:8080/"
        },
        "id": "onbS23cCw6h3",
        "outputId": "12d42cfc-9d25-4ce1-9323-7b281465e13c"
      },
      "execution_count": 4,
      "outputs": [
        {
          "output_type": "stream",
          "name": "stdout",
          "text": [
            "I am a Kangaroo located at coordinates (0,0)\n",
            "['doll', 'firetruck', 'kitten']\n",
            "I am a Kangaroo located at coordinates (3,0)\n"
          ]
        }
      ]
    },
    {
      "cell_type": "markdown",
      "source": [
        "4."
      ],
      "metadata": {
        "id": "oH3UdW8fxupP"
      }
    },
    {
      "cell_type": "code",
      "source": [
        "def collatz(x):\n",
        "  while x != 1:\n",
        "    print(x)\n",
        "    if x % 2 == 0:\n",
        "      x //= 2\n",
        "    else:\n",
        "      x = 3 * x + 1\n",
        "  print(x)\n",
        "\n",
        "# Example usage\n",
        "collatz(1)"
      ],
      "metadata": {
        "colab": {
          "base_uri": "https://localhost:8080/"
        },
        "id": "sss4_T5uxwXY",
        "outputId": "f91ad367-5d55-4e52-986a-19cad3febd39"
      },
      "execution_count": 5,
      "outputs": [
        {
          "output_type": "stream",
          "name": "stdout",
          "text": [
            "1\n"
          ]
        }
      ]
    },
    {
      "cell_type": "markdown",
      "source": [
        "5."
      ],
      "metadata": {
        "id": "EoVwIy1Cx440"
      }
    },
    {
      "cell_type": "code",
      "source": [
        "def binary(number):\n",
        "  if number == 0:\n",
        "    return \"0\"\n",
        "\n",
        "  binary = \"\"\n",
        "  while number > 0:\n",
        "    resto = number % 2\n",
        "    number //= 2\n",
        "    binary = str(resto) + binary\n",
        "\n",
        "  return binary\n",
        "\n",
        "\n",
        "number = 10\n",
        "binary_number = binary(number)\n",
        "print(f\"The number {number} in binary is: {binary_number}\")"
      ],
      "metadata": {
        "colab": {
          "base_uri": "https://localhost:8080/"
        },
        "id": "NcNcYLaRx9qS",
        "outputId": "7019dd98-9306-4883-97b1-e7192c545e52"
      },
      "execution_count": 29,
      "outputs": [
        {
          "output_type": "stream",
          "name": "stdout",
          "text": [
            "The number 10 in binary is: 1010\n"
          ]
        }
      ]
    },
    {
      "cell_type": "markdown",
      "source": [
        "6."
      ],
      "metadata": {
        "id": "nUg8mKquyOWn"
      }
    },
    {
      "cell_type": "code",
      "source": [
        "def __init__(self):\n",
        "    '''Reset the old data in the cache. Initialise the variables.'''\n",
        "    super().__init__()\n",
        "    self.reset()\n",
        "    self.tag_data = []\n",
        "\n",
        "def handle_starttag(self, tag, attrs):\n",
        "    '''Read the start tag'''\n",
        "\n",
        "    # Check if the tag belongs to heading. If so then append inside the variable to be used later\n",
        "    if tag in ['h1', 'h2', 'h3', 'h4', 'h5', 'h6']:\n",
        "        self.tag_data.append({'type': tag, 'data': ''})\n",
        "\n",
        "def handle_data(self, data):\n",
        "    '''Get the data from the tag'''\n",
        "\n",
        "    # Only for head tag store the data inside the list\n",
        "    if len(self.tag_data) != 0:\n",
        "      open_tag_data = self.tag_data.pop()\n",
        "      if open_tag_data['type'] in ['h1', 'h2', 'h3', 'h4', 'h5', 'h6']:\n",
        "          open_tag_data['data'] = data\n",
        "          self.tag_data.append(open_tag_data)\n",
        "\n",
        "def print_data(self):\n",
        "    '''Print the data as per the requirement'''\n",
        "\n",
        "    # For h1 add no indentation, for h2 add one and so on.\n",
        "    # print(self.tag_data)\n",
        "    for data in self.tag_data:\n",
        "        if data['type'] == 'h1':\n",
        "            print(data['data'])\n",
        "\n",
        "        if data['type'] == 'h2':\n",
        "            print(\"\\t\" + data['data'])\n",
        "\n",
        "        if data['type'] == 'h3':\n",
        "            print(\"\\t\\t\" + data['data'])\n",
        "\n",
        "        if data['type'] == 'h4':\n",
        "            print(\"\\t\\t\\t\" + data['data'])\n",
        "\n",
        "        if data['type'] == 'h5':\n",
        "            print(\"\\t\\t\\t\\t\" + data['data'])\n",
        "\n",
        "        if data['type'] == 'h6':\n",
        "            print(\"\\t\\t\\t\\t\\t\" + data['data'])"
      ],
      "metadata": {
        "id": "OtVFjrhoyPTL"
      },
      "execution_count": 44,
      "outputs": []
    },
    {
      "cell_type": "markdown",
      "source": [
        "7."
      ],
      "metadata": {
        "id": "u4mZT4R80jxA"
      }
    },
    {
      "cell_type": "code",
      "source": [
        "from urllib.parse import urljoin\n",
        "from html.parser import HTMLParser\n",
        "from urllib.request import urlopen\n",
        "\n",
        "class Collector(HTMLParser):\n",
        "\n",
        "    def __init__(self, url):\n",
        "        HTMLParser.__init__(self)\n",
        "        self.url = url\n",
        "        self.links = []\n",
        "\n",
        "\n",
        "    def handle_starttag(self, tag, attrs):\n",
        "        if tag == 'a':\n",
        "            for attr in attrs:\n",
        "                if attr[0] == 'href':\n",
        "                    absolute = urljoin(self.url, attr[1])\n",
        "                    if absolute[:4] == 'http': # collect HTTP URLs\n",
        "                        self.links.append(absolute)\n",
        "\n",
        "    def getLinks(self):\n",
        "        return self.links\n",
        "\n",
        "def Links(url):\n",
        "    resource = urlopen(url)\n",
        "    content = resource.read().decode()\n",
        "    collector = Collector(url)\n",
        "    collector.feed(content)\n",
        "    return collector.getLinks()\n",
        "\n",
        "def getLinks(self):\n",
        "        return self.links\n",
        "\n",
        "global deep\n",
        "def displayUrl(url,presentDepth):\n",
        "    padding = len(url) + (presentDepth*indentation)\n",
        "    string = url.center(padding,\" \")\n",
        "    print(string)\n",
        "\n",
        "def crawl(url,presentDepth):\n",
        "\n",
        "\n",
        "    if(presentDepth>deep): return\n",
        "    displayUrl(url,presentDepth)\n",
        "\n",
        "    links = Links(url)\n",
        "\n",
        "    for link in links:\n",
        "        try:\n",
        "            crawl(link,presentDepth+1)\n",
        "        except:\n",
        "            pass\n",
        "\n",
        "def webdir(url,depth,indent):\n",
        "    global indentation\n",
        "    deep=depth\n",
        "\n",
        "    crawl(url, 0)\n",
        "\n",
        "\n",
        "\n",
        "\n",
        "\n",
        "\n"
      ],
      "metadata": {
        "id": "vQoQKy7R0kvS"
      },
      "execution_count": 61,
      "outputs": []
    },
    {
      "cell_type": "markdown",
      "source": [
        "8."
      ],
      "metadata": {
        "id": "RK2wPKU7U0eN"
      }
    },
    {
      "cell_type": "code",
      "source": [
        "CREATE\n",
        "SELECT temperature from tablename\n",
        "SELECT distinct city from tablename\n",
        "SELECT * from tablename where country='India'\n",
        "SELECT * from tablename where season='Fall'\n",
        "SELECT city, country, season from tablename where rainfaill >= 200 and rainfall <= 400\n",
        "SELECT city, country from tablename where temperature>20 order by temperature ASC\n",
        "SELECT count(rainfall) from tablename where city='Cairo'\n",
        "SELECT rainfall, count(rainfall) from tablename group by rainfall;"
      ],
      "metadata": {
        "colab": {
          "base_uri": "https://localhost:8080/",
          "height": 110
        },
        "id": "JFDlh2KUU1sP",
        "outputId": "9bf59146-1feb-45b5-9a7c-e969a17cb797"
      },
      "execution_count": 57,
      "outputs": [
        {
          "output_type": "error",
          "ename": "SyntaxError",
          "evalue": "invalid syntax (<ipython-input-57-59a445272661>, line 1)",
          "traceback": [
            "\u001b[0;36m  File \u001b[0;32m\"<ipython-input-57-59a445272661>\"\u001b[0;36m, line \u001b[0;32m1\u001b[0m\n\u001b[0;31m    City\tCountry\tSeason\tTemperature (C)\tRainfall (mm)\u001b[0m\n\u001b[0m        \t^\u001b[0m\n\u001b[0;31mSyntaxError\u001b[0m\u001b[0;31m:\u001b[0m invalid syntax\n"
          ]
        }
      ]
    },
    {
      "cell_type": "markdown",
      "source": [
        "9."
      ],
      "metadata": {
        "id": "JA6CoQ8DSfdl"
      }
    },
    {
      "cell_type": "code",
      "source": [
        "# List Words\n",
        "words = ['The', 'quick', 'brown', 'fox', 'jumps', 'over',\n",
        "'the', 'lazy', 'dog']\n",
        "\n",
        "# Punto A\n",
        "A = [word.upper() for word in words]\n",
        "# Punto B\n",
        "B = words\n",
        "# Punto C\n",
        "C = [len(word) for word in words]\n",
        "# Punto D\n",
        "D = [[word.upper(),word, len(word)] for word in words]\n",
        "# Punto E\n",
        "E = [word for word in words if len(word) >= 4]\n",
        "\n",
        "print('A',A)\n",
        "print('B',B)\n",
        "print('C',C)\n",
        "print('D',D)\n",
        "print('E',E)"
      ],
      "metadata": {
        "colab": {
          "base_uri": "https://localhost:8080/"
        },
        "id": "u9K2LOsRShGk",
        "outputId": "d37aa5c7-ed98-4c2e-f35b-d00fe2ac4e58"
      },
      "execution_count": 42,
      "outputs": [
        {
          "output_type": "stream",
          "name": "stdout",
          "text": [
            "A ['THE', 'QUICK', 'BROWN', 'FOX', 'JUMPS', 'OVER', 'THE', 'LAZY', 'DOG']\n",
            "B ['The', 'quick', 'brown', 'fox', 'jumps', 'over', 'the', 'lazy', 'dog']\n",
            "C [3, 5, 5, 3, 5, 4, 3, 4, 3]\n",
            "D [['THE', 'The', 3], ['QUICK', 'quick', 5], ['BROWN', 'brown', 5], ['FOX', 'fox', 3], ['JUMPS', 'jumps', 5], ['OVER', 'over', 4], ['THE', 'the', 3], ['LAZY', 'lazy', 4], ['DOG', 'dog', 3]]\n",
            "E ['quick', 'brown', 'jumps', 'over', 'lazy']\n"
          ]
        }
      ]
    }
  ]
}